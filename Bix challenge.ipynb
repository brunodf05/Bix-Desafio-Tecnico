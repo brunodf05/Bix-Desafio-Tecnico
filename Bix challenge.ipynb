{
  "cells": [
    {
      "cell_type": "code",
      "execution_count": 2,
      "metadata": {
        "id": "6VfoCL4KKjQN"
      },
      "outputs": [],
      "source": [
        "# Importar as bibliotecas\n",
        "import pandas as pd\n",
        "import numpy as np\n",
        "from sklearn.model_selection import train_test_split, GridSearchCV\n",
        "from sklearn.preprocessing import StandardScaler\n",
        "from sklearn.ensemble import RandomForestClassifier\n",
        "from sklearn.metrics import make_scorer, confusion_matrix, classification_report\n",
        "import matplotlib.pyplot as plt\n",
        "import seaborn as sns\n",
        "import impyute as impy\n",
        "from sklearn.experimental import enable_iterative_imputer\n",
        "from sklearn.impute import IterativeImputer"
      ]
    },
    {
      "cell_type": "code",
      "execution_count": null,
      "metadata": {
        "id": "CyM_0C1hNv_S"
      },
      "outputs": [],
      "source": [
        "# Arquivo de treino\n",
        "data_training = pd.read_csv(\"./air_system_previous_years.csv\")\n",
        "\n",
        "data_training = data_training.dropna(axis=1)\n",
        "\n",
        "data_training['class'] = data_training['class'].map({'pos':1, 'neg':0})\n",
        "\n",
        "features_train = data_training.drop('class', axis=1)\n",
        "targets_train = data_training['class']\n",
        "\n",
        "features_train.replace('na', np.nan, inplace=True)\n",
        "\n",
        "for col in features_train.columns:\n",
        "    try:\n",
        "        features_train[col] = pd.to_numeric(features_train[col], errors='coerce')\n",
        "    except:\n",
        "        print(f\"Could not convert column {col} to numeric.\")\n",
        "\n",
        "missing_percentage = features_train.isnull().sum() / len(features_train) * 100\n",
        "\n",
        "columns_to_drop = missing_percentage[missing_percentage > 50].index\n",
        "features_train = features_train.drop(columns_to_drop, axis=1)\n",
        "\n",
        "features_train.fillna(features_train.mean(), inplace=True)\n",
        "features_train.interpolate(inplace=True)\n",
        "\n",
        "targets_train = targets_train[features_train.index]\n",
        "\n",
        "scaler = StandardScaler()\n",
        "features_train_scaled = scaler.fit_transform(features_train)"
      ]
    },
    {
      "cell_type": "code",
      "execution_count": null,
      "metadata": {
        "id": "VgSfSKhf-L1z"
      },
      "outputs": [],
      "source": [
        "# Arquivo de teste\n",
        "data_current = pd.read_csv(\"./air_system_present_year.csv\")\n",
        "\n",
        "data_current = data_current.dropna(axis=1)\n",
        "\n",
        "data_current['class'] = data_current['class'].map({'pos':1, 'neg':0})\n",
        "\n",
        "features_current = data_current.drop('class', axis=1)\n",
        "targets_current = data_current['class']\n",
        "\n",
        "features_current.replace('na', np.nan, inplace=True)\n",
        "\n",
        "for col in features_current.columns:\n",
        "    try:\n",
        "        features_current[col] = pd.to_numeric(features_current[col], errors='coerce')\n",
        "    except:\n",
        "        print(f\"Could not convert column {col} to numeric.\")\n",
        "\n",
        "missing_percentage = features_current.isnull().sum() / len(features_current) * 100\n",
        "\n",
        "columns_to_drop = missing_percentage[missing_percentage > 50].index\n",
        "features_current = features_current.drop(columns_to_drop, axis=1)\n",
        "\n",
        "features_current.fillna(features_current.mean(), inplace=True)\n",
        "features_current.interpolate(inplace=True)\n",
        "\n",
        "targets_current = targets_current[features_current.index]\n",
        "\n",
        "features_current_scaled = scaler.transform(features_current)"
      ]
    },
    {
      "cell_type": "code",
      "execution_count": null,
      "metadata": {
        "id": "xMywFI82fe1L"
      },
      "outputs": [],
      "source": [
        "# Calculo de custo\n",
        "def calculate_cost(y_true, y_pred):\n",
        "    cm = confusion_matrix(y_true, y_pred)\n",
        "    tn, fp, fn, tp = cm.ravel()\n",
        "    total_cost = (fp * 10) + (tp * 25) + (fn * 500)\n",
        "    return total_cost\n",
        "\n",
        "cost_scorer = make_scorer(calculate_cost, greater_is_better=False)\n"
      ]
    },
    {
      "cell_type": "code",
      "execution_count": null,
      "metadata": {
        "id": "crhfk2yHfwf7"
      },
      "outputs": [],
      "source": [
        "# Modelo de machine learning\n",
        "model = RandomForestClassifier(random_state=42)\n",
        "\n",
        "param_grid = {\n",
        "    'n_estimators': [50, 100, 200],\n",
        "    'max_depth': [None, 10, 20, 30],\n",
        "    'min_samples_split': [2, 5, 10],\n",
        "    'min_samples_leaf': [1, 2, 4]\n",
        "}\n",
        "\n",
        "grid_search = GridSearchCV(estimator=model, param_grid=param_grid, scoring=cost_scorer, cv=5, n_jobs=-1)\n",
        "grid_search.fit(features_train_scaled, targets_train)\n",
        "\n",
        "best_model = grid_search.best_estimator_\n",
        "\n",
        "targets_pred = best_model.predict(features_current_scaled)\n",
        "\n",
        "cm = confusion_matrix(targets_current, targets_pred)\n",
        "tn, fp, fn, tp = cm.ravel()\n",
        "total_cost = calculate_cost(targets_current, targets_pred)\n",
        "\n",
        "print(\"Melhores Hiperparâmetros:\", grid_search.best_params_)\n",
        "print(\"Confusion Matrix:\\n\", cm)\n",
        "print(\"Custo Total:\", total_cost)\n",
        "print(\"Classification Report:\\n\", classification_report(targets_current, targets_pred))\n"
      ]
    },
    {
      "cell_type": "code",
      "execution_count": null,
      "metadata": {
        "id": "xKLnhUFI-L11"
      },
      "outputs": [],
      "source": [
        "# Calcular a acurácia\n",
        "accuracy_test = (tp + tn) / (tp + tn + fp + fn)\n",
        "print(\"Acurácia do teste:\", accuracy_test)"
      ]
    }
  ],
  "metadata": {
    "accelerator": "GPU",
    "colab": {
      "gpuType": "T4",
      "provenance": []
    },
    "kernelspec": {
      "display_name": "Python 3",
      "name": "python3"
    },
    "language_info": {
      "codemirror_mode": {
        "name": "ipython",
        "version": 3
      },
      "file_extension": ".py",
      "mimetype": "text/x-python",
      "name": "python",
      "nbconvert_exporter": "python",
      "pygments_lexer": "ipython3",
      "version": "3.12.4"
    }
  },
  "nbformat": 4,
  "nbformat_minor": 0
}
